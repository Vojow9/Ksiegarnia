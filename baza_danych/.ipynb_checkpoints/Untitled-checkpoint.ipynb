{
 "cells": [
  {
   "cell_type": "code",
   "execution_count": 20,
   "metadata": {
    "collapsed": true
   },
   "outputs": [],
   "source": [
    "from pymongo import MongoClient\n",
    "client = MongoClient()\n",
    "ksiegarnia = client.ksiegarniadb"
   ]
  },
  {
   "cell_type": "code",
   "execution_count": null,
   "metadata": {
    "collapsed": true
   },
   "outputs": [],
   "source": []
  },
  {
   "cell_type": "code",
   "execution_count": 21,
   "metadata": {
    "collapsed": true
   },
   "outputs": [],
   "source": [
    "customers= [{\n",
    "  \"token\": \"19GCT2poCpMo82e1csEkGQXG4LRhk8eCEC\",\n",
    "  \"first_name\": \"Norma\",\n",
    "  \"last_name\": \"Washington\",\n",
    "  \"email\": \"nwashington0@shutterfly.com\",\n",
    "  \"gender\": \"Female\",\n",
    "  \"address\": \"359 Hanover Avenue\"\n",
    "}, {\n",
    "  \"token\": \"16WYZhgzrNKoUPQEwb1bDbSPsn9gDZLcqL\",\n",
    "  \"first_name\": \"Lisa\",\n",
    "  \"last_name\": \"Carroll\",\n",
    "  \"email\": \"lcarroll1@yelp.com\",\n",
    "  \"gender\": \"Female\",\n",
    "  \"address\": \"63 Vidon Court\"\n",
    "}, {\n",
    "  \"token\": \"14oMWmpjqRXH8NbMFsZBnQMjwX4WSk2d71\",\n",
    "  \"first_name\": \"Catherine\",\n",
    "  \"last_name\": \"Anderson\",\n",
    "  \"email\": \"canderson2@techcrunch.com\",\n",
    "  \"gender\": \"Female\",\n",
    "  \"address\": \"1 Dorton Park\"\n",
    "}]\n"
   ]
  },
  {
   "cell_type": "code",
   "execution_count": 22,
   "metadata": {
    "collapsed": false
   },
   "outputs": [
    {
     "data": {
      "text/plain": [
       "<pymongo.results.InsertManyResult at 0x7fbda00fe708>"
      ]
     },
     "execution_count": 22,
     "metadata": {},
     "output_type": "execute_result"
    }
   ],
   "source": [
    "ksiegarnia.customers.insert_many(customers)"
   ]
  },
  {
   "cell_type": "code",
   "execution_count": 23,
   "metadata": {
    "collapsed": false
   },
   "outputs": [
    {
     "data": {
      "text/plain": [
       "[{'_id': ObjectId('583603a157aac220c4c87376'),\n",
       "  'address': '359 Hanover Avenue',\n",
       "  'email': 'nwashington0@shutterfly.com',\n",
       "  'first_name': 'Norma',\n",
       "  'gender': 'Female',\n",
       "  'last_name': 'Washington',\n",
       "  'token': '19GCT2poCpMo82e1csEkGQXG4LRhk8eCEC'},\n",
       " {'_id': ObjectId('583603a157aac220c4c87377'),\n",
       "  'address': '63 Vidon Court',\n",
       "  'email': 'lcarroll1@yelp.com',\n",
       "  'first_name': 'Lisa',\n",
       "  'gender': 'Female',\n",
       "  'last_name': 'Carroll',\n",
       "  'token': '16WYZhgzrNKoUPQEwb1bDbSPsn9gDZLcqL'},\n",
       " {'_id': ObjectId('583603a157aac220c4c87378'),\n",
       "  'address': '1 Dorton Park',\n",
       "  'email': 'canderson2@techcrunch.com',\n",
       "  'first_name': 'Catherine',\n",
       "  'gender': 'Female',\n",
       "  'last_name': 'Anderson',\n",
       "  'token': '14oMWmpjqRXH8NbMFsZBnQMjwX4WSk2d71'}]"
      ]
     },
     "execution_count": 23,
     "metadata": {},
     "output_type": "execute_result"
    }
   ],
   "source": [
    "list(ksiegarnia.customers.find())"
   ]
  },
  {
   "cell_type": "code",
   "execution_count": 24,
   "metadata": {
    "collapsed": false
   },
   "outputs": [],
   "source": [
    "id1 = ksiegarnia.authors.insert_one({\n",
    "  \"name\": \"Joanne Rowling\",\n",
    "  \"description\": \"harrego pottera napisala\"\n",
    "  }).inserted_id"
   ]
  },
  {
   "cell_type": "markdown",
   "metadata": {},
   "source": [
    "id1 "
   ]
  },
  {
   "cell_type": "code",
   "execution_count": 25,
   "metadata": {
    "collapsed": false
   },
   "outputs": [
    {
     "data": {
      "text/plain": [
       "ObjectId('583603a957aac220c4c87379')"
      ]
     },
     "execution_count": 25,
     "metadata": {},
     "output_type": "execute_result"
    }
   ],
   "source": [
    "id1"
   ]
  },
  {
   "cell_type": "code",
   "execution_count": 26,
   "metadata": {
    "collapsed": true
   },
   "outputs": [],
   "source": [
    "id2 = ksiegarnia.authors.insert_one({\n",
    "  \"name\": \"Justin Collins\",\n",
    "  \"description\": \"a taka z random data generator\"\n",
    "  }).inserted_id"
   ]
  },
  {
   "cell_type": "code",
   "execution_count": 27,
   "metadata": {
    "collapsed": true
   },
   "outputs": [],
   "source": [
    "id3 = ksiegarnia.authors.insert_one(\n",
    "    {\n",
    "  \"name\": \"Louise Wells\",\n",
    "  \"description\": \"ta tez z random data generator\"\n",
    "  }\n",
    "    ).inserted_id"
   ]
  },
  {
   "cell_type": "code",
   "execution_count": 28,
   "metadata": {
    "collapsed": false
   },
   "outputs": [
    {
     "data": {
      "text/plain": [
       "(ObjectId('583603a957aac220c4c87379'),\n",
       " ObjectId('583603ad57aac220c4c8737a'),\n",
       " ObjectId('583603af57aac220c4c8737b'))"
      ]
     },
     "execution_count": 28,
     "metadata": {},
     "output_type": "execute_result"
    }
   ],
   "source": [
    "id1,id2,id3\n"
   ]
  },
  {
   "cell_type": "code",
   "execution_count": 14,
   "metadata": {
    "collapsed": false
   },
   "outputs": [],
   "source": [
    "harry = {\n",
    "  \"title\": \"Harry Potter i Kamienń filozoficzny\",\n",
    "  \"authors\": [\n",
    "    id1\n",
    "  ],\n",
    "  \"price\": \"4.15\",\n",
    "  \"description\": \"Cras mi pede, malesuada in, imperdiet et, commodo vulputate, justo. In blandit ultrices enim. Lorem ipsum dolor sit amet, consectetuer adipiscing elit.\\n\\nProin interdum mauris non ligula pellentesque ultrices. Phasellus id sapien in sapien iaculis congue. Vivamus metus arcu, adipiscing molestie, hendrerit at, vulputate vitae, nisl.\",\n",
    "  \"isEbook\": False,\n",
    "  \"lendPrice\" : None,\n",
    "  \"availability\": 6,\n",
    "  \"tableOfContents\": [\n",
    "    \"pierwszy rozdzial\",\n",
    "    \"drugi rozdzial\",\n",
    "    \"trzeci rozdzial\",\n",
    "    \"czwarty rozdzial\",\n",
    "  ],\n",
    "  \"ISBN\": \"816399277-8\",\n",
    "  \"cover\": \"15U4afQzoRD9xwvq7RQL58tm9wTGSMt7eQ\",\n",
    "}"
   ]
  },
  {
   "cell_type": "code",
   "execution_count": 15,
   "metadata": {
    "collapsed": false
   },
   "outputs": [
    {
     "data": {
      "text/plain": [
       "<pymongo.results.InsertOneResult at 0x7fbda00fe360>"
      ]
     },
     "execution_count": 15,
     "metadata": {},
     "output_type": "execute_result"
    }
   ],
   "source": [
    "ksiegarnia.books.insert_one(harry)"
   ]
  },
  {
   "cell_type": "code",
   "execution_count": 16,
   "metadata": {
    "collapsed": false
   },
   "outputs": [],
   "source": [
    "ksiazka2 = {\n",
    "  \"title\": \"Arnica Montana\",\n",
    "  \"authors\": [\n",
    "    id2,id3\n",
    "  ],\n",
    "  \"price\": \"10\",\n",
    "  \"description\": \"Cras mi pede, malesuada in, imperdiet et, commodo vulputate, justo. In blandit ultrices enim. Lorem ipsum dolor sit amet, consectetuer adipiscing elit.\\n\\nProin interdum mauris non ligula pellentesque ultrices. Phasellus id sapien in sapien iaculis congue. Vivamus metus arcu, adipiscing molestie, hendrerit at, vulputate vitae, nisl.\",\n",
    "  \"isEbook\": True,\n",
    "  \"lendPrice\" : 5,\n",
    "  \"availability\": None,\n",
    "  \"tableOfContents\": [\n",
    "    \"pierwszy rozdzial\",\n",
    "    \"drugi rozdzial\",\n",
    "    \"trzeci rozdzial\",\n",
    "    \"czwarty rozdzial\",\n",
    "  ],\n",
    "  \"ISBN\": \"816399277-8\",\n",
    "  \"cover\": \"15U4afQzoRD9xwvq7RQL58tm9wTGSMt7eQ\",\n",
    "}"
   ]
  },
  {
   "cell_type": "code",
   "execution_count": 17,
   "metadata": {
    "collapsed": false
   },
   "outputs": [
    {
     "data": {
      "text/plain": [
       "<pymongo.results.InsertOneResult at 0x7fbda00febd0>"
      ]
     },
     "execution_count": 17,
     "metadata": {},
     "output_type": "execute_result"
    }
   ],
   "source": [
    "ksiegarnia.books.insert_one(ksiazka2)"
   ]
  },
  {
   "cell_type": "code",
   "execution_count": 19,
   "metadata": {
    "collapsed": false
   },
   "outputs": [
    {
     "data": {
      "text/plain": [
       "[{'_id': ObjectId('5836015057aac220c4c8736f'),\n",
       "  'description': 'harrego pottera napisala',\n",
       "  'name': 'Joanne Rowling'},\n",
       " {'_id': ObjectId('5836015257aac220c4c87370'),\n",
       "  'description': 'harrego pottera napisala',\n",
       "  'name': 'Joanne Rowling'},\n",
       " {'_id': ObjectId('5836016157aac220c4c87371'),\n",
       "  'description': 'a taka z random data generator',\n",
       "  'name': 'Justin Collins'},\n",
       " {'_id': ObjectId('5836016457aac220c4c87372'),\n",
       "  'description': 'ta tez z random data generator',\n",
       "  'name': 'Louise Wells'}]"
      ]
     },
     "execution_count": 19,
     "metadata": {},
     "output_type": "execute_result"
    }
   ],
   "source": [
    "list(ksiegarnia.authors.find())"
   ]
  }
 ],
 "metadata": {
  "kernelspec": {
   "display_name": "Python 3",
   "language": "python",
   "name": "python3"
  },
  "language_info": {
   "codemirror_mode": {
    "name": "ipython",
    "version": 3
   },
   "file_extension": ".py",
   "mimetype": "text/x-python",
   "name": "python",
   "nbconvert_exporter": "python",
   "pygments_lexer": "ipython3",
   "version": "3.4.0"
  }
 },
 "nbformat": 4,
 "nbformat_minor": 0
}
