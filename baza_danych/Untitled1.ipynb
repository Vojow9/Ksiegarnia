{
 "cells": [
  {
   "cell_type": "code",
   "execution_count": 9,
   "metadata": {
    "collapsed": true
   },
   "outputs": [],
   "source": [
    "from pymongo import MongoClient\n",
    "client = MongoClient()\n",
    "ksiegarnia = client.ksiegarniadb"
   ]
  },
  {
   "cell_type": "code",
   "execution_count": 10,
   "metadata": {
    "collapsed": false
   },
   "outputs": [
    {
     "data": {
      "text/plain": [
       "[{'ISBN': '816399277-8',\n",
       "  '_id': ObjectId('5836048f57aac220c4c87383'),\n",
       "  'authors': [ObjectId('5836047157aac220c4c87380')],\n",
       "  'availability': 6,\n",
       "  'cover': '15U4afQzoRD9xwvq7RQL58tm9wTGSMt7eQ',\n",
       "  'description': 'Cras mi pede, malesuada in, imperdiet et, commodo vulputate, justo. In blandit ultrices enim. Lorem ipsum dolor sit amet, consectetuer adipiscing elit.\\n\\nProin interdum mauris non ligula pellentesque ultrices. Phasellus id sapien in sapien iaculis congue. Vivamus metus arcu, adipiscing molestie, hendrerit at, vulputate vitae, nisl.',\n",
       "  'isEbook': False,\n",
       "  'lendPrice': None,\n",
       "  'price': 4.15,\n",
       "  'tableOfContents': ['pierwszy rozdzial',\n",
       "   'drugi rozdzial',\n",
       "   'trzeci rozdzial',\n",
       "   'czwarty rozdzial'],\n",
       "  'title': 'Harry Potter i Kamienń filozoficzny'},\n",
       " {'ISBN': '816399277-8',\n",
       "  '_id': ObjectId('5836049c57aac220c4c87384'),\n",
       "  'authors': [ObjectId('5836047657aac220c4c87381'),\n",
       "   ObjectId('5836047657aac220c4c87382')],\n",
       "  'availability': None,\n",
       "  'cover': '15U4afQzoRD9xwvq7RQL58tm9wTGSMt7eQ',\n",
       "  'description': 'Cras mi pede, malesuada in, imperdiet et, commodo vulputate, justo. In blandit ultrices enim. Lorem ipsum dolor sit amet, consectetuer adipiscing elit.\\n\\nProin interdum mauris non ligula pellentesque ultrices. Phasellus id sapien in sapien iaculis congue. Vivamus metus arcu, adipiscing molestie, hendrerit at, vulputate vitae, nisl.',\n",
       "  'isEbook': True,\n",
       "  'lendPrice': 5,\n",
       "  'price': 10,\n",
       "  'tableOfContents': ['pierwszy rozdzial',\n",
       "   'drugi rozdzial',\n",
       "   'trzeci rozdzial',\n",
       "   'czwarty rozdzial'],\n",
       "  'title': 'Arnica Montana'}]"
      ]
     },
     "execution_count": 10,
     "metadata": {},
     "output_type": "execute_result"
    }
   ],
   "source": [
    "list(ksiegarnia.books.find())\n"
   ]
  }
 ],
 "metadata": {
  "kernelspec": {
   "display_name": "Python 3",
   "language": "python",
   "name": "python3"
  },
  "language_info": {
   "codemirror_mode": {
    "name": "ipython",
    "version": 3
   },
   "file_extension": ".py",
   "mimetype": "text/x-python",
   "name": "python",
   "nbconvert_exporter": "python",
   "pygments_lexer": "ipython3",
   "version": "3.4.0"
  }
 },
 "nbformat": 4,
 "nbformat_minor": 0
}
