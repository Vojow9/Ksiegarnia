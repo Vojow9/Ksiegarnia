{
 "cells": [
  {
   "cell_type": "code",
   "execution_count": 20,
   "metadata": {
    "collapsed": true
   },
   "outputs": [],
   "source": [
    "from pymongo import MongoClient\n",
    "client = MongoClient()\n",
    "ksiegarnia = client.ksiegarniadb"
   ]
  },
  {
   "cell_type": "code",
   "execution_count": null,
   "metadata": {
    "collapsed": true
   },
   "outputs": [],
   "source": []
  },
  {
   "cell_type": "code",
   "execution_count": 32,
   "metadata": {
    "collapsed": true
   },
   "outputs": [],
   "source": [
    "customers= [{\n",
    "  \"token\": \"19GCT2poCpMo82e1csEkGQXG4LRhk8eCEC\",\n",
    "  \"first_name\": \"Norma\",\n",
    "  \"last_name\": \"Washington\",\n",
    "  \"email\": \"nwashington0@shutterfly.com\",\n",
    "  \"gender\": \"Female\",\n",
    "  \"address\": \"359 Hanover Avenue\"\n",
    "}, {\n",
    "  \"token\": \"16WYZhgzrNKoUPQEwb1bDbSPsn9gDZLcqL\",\n",
    "  \"first_name\": \"Lisa\",\n",
    "  \"last_name\": \"Carroll\",\n",
    "  \"email\": \"lcarroll1@yelp.com\",\n",
    "  \"gender\": \"Female\",\n",
    "  \"address\": \"63 Vidon Court\"\n",
    "}, {\n",
    "  \"token\": \"14oMWmpjqRXH8NbMFsZBnQMjwX4WSk2d71\",\n",
    "  \"first_name\": \"Catherine\",\n",
    "  \"last_name\": \"Anderson\",\n",
    "  \"email\": \"canderson2@techcrunch.com\",\n",
    "  \"gender\": \"Female\",\n",
    "  \"address\": \"1 Dorton Park\"\n",
    "}]\n"
   ]
  },
  {
   "cell_type": "code",
   "execution_count": 33,
   "metadata": {
    "collapsed": false
   },
   "outputs": [
    {
     "data": {
      "text/plain": [
       "<pymongo.results.InsertManyResult at 0x7fbda00fe120>"
      ]
     },
     "execution_count": 33,
     "metadata": {},
     "output_type": "execute_result"
    }
   ],
   "source": [
    "ksiegarnia.customers.insert_many(customers)"
   ]
  },
  {
   "cell_type": "code",
   "execution_count": 34,
   "metadata": {
    "collapsed": false
   },
   "outputs": [
    {
     "data": {
      "text/plain": [
       "[{'_id': ObjectId('5836046c57aac220c4c8737d'),\n",
       "  'address': '359 Hanover Avenue',\n",
       "  'email': 'nwashington0@shutterfly.com',\n",
       "  'first_name': 'Norma',\n",
       "  'gender': 'Female',\n",
       "  'last_name': 'Washington',\n",
       "  'token': '19GCT2poCpMo82e1csEkGQXG4LRhk8eCEC'},\n",
       " {'_id': ObjectId('5836046c57aac220c4c8737e'),\n",
       "  'address': '63 Vidon Court',\n",
       "  'email': 'lcarroll1@yelp.com',\n",
       "  'first_name': 'Lisa',\n",
       "  'gender': 'Female',\n",
       "  'last_name': 'Carroll',\n",
       "  'token': '16WYZhgzrNKoUPQEwb1bDbSPsn9gDZLcqL'},\n",
       " {'_id': ObjectId('5836046c57aac220c4c8737f'),\n",
       "  'address': '1 Dorton Park',\n",
       "  'email': 'canderson2@techcrunch.com',\n",
       "  'first_name': 'Catherine',\n",
       "  'gender': 'Female',\n",
       "  'last_name': 'Anderson',\n",
       "  'token': '14oMWmpjqRXH8NbMFsZBnQMjwX4WSk2d71'}]"
      ]
     },
     "execution_count": 34,
     "metadata": {},
     "output_type": "execute_result"
    }
   ],
   "source": [
    "list(ksiegarnia.customers.find())"
   ]
  },
  {
   "cell_type": "code",
   "execution_count": 35,
   "metadata": {
    "collapsed": false
   },
   "outputs": [],
   "source": [
    "id1 = ksiegarnia.authors.insert_one({\n",
    "  \"name\": \"Joanne Rowling\",\n",
    "  \"description\": \"harrego pottera napisala\"\n",
    "  }).inserted_id"
   ]
  },
  {
   "cell_type": "markdown",
   "metadata": {},
   "source": [
    "id1 "
   ]
  },
  {
   "cell_type": "code",
   "execution_count": 25,
   "metadata": {
    "collapsed": false
   },
   "outputs": [
    {
     "data": {
      "text/plain": [
       "ObjectId('583603a957aac220c4c87379')"
      ]
     },
     "execution_count": 25,
     "metadata": {},
     "output_type": "execute_result"
    }
   ],
   "source": [
    "id1"
   ]
  },
  {
   "cell_type": "code",
   "execution_count": 36,
   "metadata": {
    "collapsed": true
   },
   "outputs": [],
   "source": [
    "id2 = ksiegarnia.authors.insert_one({\n",
    "  \"name\": \"Justin Collins\",\n",
    "  \"description\": \"a taka z random data generator\"\n",
    "  }).inserted_id"
   ]
  },
  {
   "cell_type": "code",
   "execution_count": 37,
   "metadata": {
    "collapsed": true
   },
   "outputs": [],
   "source": [
    "id3 = ksiegarnia.authors.insert_one(\n",
    "    {\n",
    "  \"name\": \"Louise Wells\",\n",
    "  \"description\": \"ta tez z random data generator\"\n",
    "  }\n",
    "    ).inserted_id"
   ]
  },
  {
   "cell_type": "code",
   "execution_count": 38,
   "metadata": {
    "collapsed": false
   },
   "outputs": [
    {
     "data": {
      "text/plain": [
       "(ObjectId('5836047157aac220c4c87380'),\n",
       " ObjectId('5836047657aac220c4c87381'),\n",
       " ObjectId('5836047657aac220c4c87382'))"
      ]
     },
     "execution_count": 38,
     "metadata": {},
     "output_type": "execute_result"
    }
   ],
   "source": [
    "id1,id2,id3\n"
   ]
  },
  {
   "cell_type": "code",
   "execution_count": 39,
   "metadata": {
    "collapsed": false
   },
   "outputs": [],
   "source": [
    "harry = {\n",
    "  \"title\": \"Harry Potter i Kamienń filozoficzny\",\n",
    "  \"authors\": [\n",
    "    id1\n",
    "  ],\n",
    "  \"price\": 4.15,\n",
    "  \"description\": \"Cras mi pede, malesuada in, imperdiet et, commodo vulputate, justo. In blandit ultrices enim. Lorem ipsum dolor sit amet, consectetuer adipiscing elit.\\n\\nProin interdum mauris non ligula pellentesque ultrices. Phasellus id sapien in sapien iaculis congue. Vivamus metus arcu, adipiscing molestie, hendrerit at, vulputate vitae, nisl.\",\n",
    "  \"isEbook\": False,\n",
    "  \"lendPrice\" : None,\n",
    "  \"availability\": 6,\n",
    "  \"tableOfContents\": [\n",
    "    \"pierwszy rozdzial\",\n",
    "    \"drugi rozdzial\",\n",
    "    \"trzeci rozdzial\",\n",
    "    \"czwarty rozdzial\",\n",
    "  ],\n",
    "  \"ISBN\": \"816399277-8\",\n",
    "  \"cover\": \"15U4afQzoRD9xwvq7RQL58tm9wTGSMt7eQ\",\n",
    "}"
   ]
  },
  {
   "cell_type": "code",
   "execution_count": 40,
   "metadata": {
    "collapsed": false
   },
   "outputs": [
    {
     "data": {
      "text/plain": [
       "<pymongo.results.InsertOneResult at 0x7fbda00aa900>"
      ]
     },
     "execution_count": 40,
     "metadata": {},
     "output_type": "execute_result"
    }
   ],
   "source": [
    "ksiegarnia.books.insert_one(harry)"
   ]
  },
  {
   "cell_type": "code",
   "execution_count": 41,
   "metadata": {
    "collapsed": false
   },
   "outputs": [],
   "source": [
    "ksiazka2 = {\n",
    "  \"title\": \"Arnica Montana\",\n",
    "  \"authors\": [\n",
    "    id2,id3\n",
    "  ],\n",
    "  \"price\": 10,\n",
    "  \"description\": \"Cras mi pede, malesuada in, imperdiet et, commodo vulputate, justo. In blandit ultrices enim. Lorem ipsum dolor sit amet, consectetuer adipiscing elit.\\n\\nProin interdum mauris non ligula pellentesque ultrices. Phasellus id sapien in sapien iaculis congue. Vivamus metus arcu, adipiscing molestie, hendrerit at, vulputate vitae, nisl.\",\n",
    "  \"isEbook\": True,\n",
    "  \"lendPrice\" : 5,\n",
    "  \"availability\": None,\n",
    "  \"tableOfContents\": [\n",
    "    \"pierwszy rozdzial\",\n",
    "    \"drugi rozdzial\",\n",
    "    \"trzeci rozdzial\",\n",
    "    \"czwarty rozdzial\",\n",
    "  ],\n",
    "  \"ISBN\": \"816399277-8\",\n",
    "  \"cover\": \"15U4afQzoRD9xwvq7RQL58tm9wTGSMt7eQ\",\n",
    "}"
   ]
  },
  {
   "cell_type": "code",
   "execution_count": 42,
   "metadata": {
    "collapsed": false
   },
   "outputs": [
    {
     "data": {
      "text/plain": [
       "<pymongo.results.InsertOneResult at 0x7fbda00aac18>"
      ]
     },
     "execution_count": 42,
     "metadata": {},
     "output_type": "execute_result"
    }
   ],
   "source": [
    "ksiegarnia.books.insert_one(ksiazka2)"
   ]
  },
  {
   "cell_type": "code",
   "execution_count": 44,
   "metadata": {
    "collapsed": false
   },
   "outputs": [
    {
     "data": {
      "text/plain": [
       "[{'ISBN': '816399277-8',\n",
       "  '_id': ObjectId('5836048f57aac220c4c87383'),\n",
       "  'authors': [ObjectId('5836047157aac220c4c87380')],\n",
       "  'availability': 6,\n",
       "  'cover': '15U4afQzoRD9xwvq7RQL58tm9wTGSMt7eQ',\n",
       "  'description': 'Cras mi pede, malesuada in, imperdiet et, commodo vulputate, justo. In blandit ultrices enim. Lorem ipsum dolor sit amet, consectetuer adipiscing elit.\\n\\nProin interdum mauris non ligula pellentesque ultrices. Phasellus id sapien in sapien iaculis congue. Vivamus metus arcu, adipiscing molestie, hendrerit at, vulputate vitae, nisl.',\n",
       "  'isEbook': False,\n",
       "  'lendPrice': None,\n",
       "  'price': 4.15,\n",
       "  'tableOfContents': ['pierwszy rozdzial',\n",
       "   'drugi rozdzial',\n",
       "   'trzeci rozdzial',\n",
       "   'czwarty rozdzial'],\n",
       "  'title': 'Harry Potter i Kamienń filozoficzny'},\n",
       " {'ISBN': '816399277-8',\n",
       "  '_id': ObjectId('5836049c57aac220c4c87384'),\n",
       "  'authors': [ObjectId('5836047657aac220c4c87381'),\n",
       "   ObjectId('5836047657aac220c4c87382')],\n",
       "  'availability': None,\n",
       "  'cover': '15U4afQzoRD9xwvq7RQL58tm9wTGSMt7eQ',\n",
       "  'description': 'Cras mi pede, malesuada in, imperdiet et, commodo vulputate, justo. In blandit ultrices enim. Lorem ipsum dolor sit amet, consectetuer adipiscing elit.\\n\\nProin interdum mauris non ligula pellentesque ultrices. Phasellus id sapien in sapien iaculis congue. Vivamus metus arcu, adipiscing molestie, hendrerit at, vulputate vitae, nisl.',\n",
       "  'isEbook': True,\n",
       "  'lendPrice': 5,\n",
       "  'price': 10,\n",
       "  'tableOfContents': ['pierwszy rozdzial',\n",
       "   'drugi rozdzial',\n",
       "   'trzeci rozdzial',\n",
       "   'czwarty rozdzial'],\n",
       "  'title': 'Arnica Montana'}]"
      ]
     },
     "execution_count": 44,
     "metadata": {},
     "output_type": "execute_result"
    }
   ],
   "source": [
    "list(ksiegarnia.books.find())"
   ]
  }
 ],
 "metadata": {
  "kernelspec": {
   "display_name": "Python 3",
   "language": "python",
   "name": "python3"
  },
  "language_info": {
   "codemirror_mode": {
    "name": "ipython",
    "version": 3
   },
   "file_extension": ".py",
   "mimetype": "text/x-python",
   "name": "python",
   "nbconvert_exporter": "python",
   "pygments_lexer": "ipython3",
   "version": "3.4.0"
  }
 },
 "nbformat": 4,
 "nbformat_minor": 0
}
